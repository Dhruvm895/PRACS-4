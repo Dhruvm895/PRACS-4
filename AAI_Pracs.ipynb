{
  "nbformat": 4,
  "nbformat_minor": 0,
  "metadata": {
    "colab": {
      "provenance": [],
      "include_colab_link": true
    },
    "kernelspec": {
      "name": "python3",
      "display_name": "Python 3"
    },
    "language_info": {
      "name": "python"
    }
  },
  "cells": [
    {
      "cell_type": "markdown",
      "metadata": {
        "id": "view-in-github",
        "colab_type": "text"
      },
      "source": [
        "<a href=\"https://colab.research.google.com/github/Dhruvm895/PRACS-4/blob/main/AAI_Pracs.ipynb\" target=\"_parent\"><img src=\"https://colab.research.google.com/assets/colab-badge.svg\" alt=\"Open In Colab\"/></a>"
      ]
    },
    {
      "cell_type": "markdown",
      "source": [
        "Basic BFS with weights"
      ],
      "metadata": {
        "id": "_w1UNrMdYgfc"
      }
    },
    {
      "cell_type": "code",
      "source": [
        "from collections import deque\n",
        "\n",
        "graph = {\n",
        "    'A': [('B', 20), ('F', 15)],\n",
        "    'B': [('C', 8)],\n",
        "    'F': [('C', 8), ('G', 7)],\n",
        "    'C': [('D', 2), ('E', 5)],\n",
        "    'G': [('E', 15)],\n",
        "    'D': [('H', 30)],\n",
        "    'E': [('H', 3)],\n",
        "    'H': []\n",
        "}\n",
        "\n",
        "def bfs_with_min_edge_weight(graph, start):\n",
        "    visited = set()\n",
        "    queue = deque([(start, None, 0)])  # (current_node, parent, weight)\n",
        "    visited.add(start)\n",
        "\n",
        "    print(\"BFS traversal (min edge first at each node):\")\n",
        "\n",
        "    while queue:\n",
        "        node, parent, weight = queue.popleft()\n",
        "        if parent is not None:\n",
        "            print(f\"{parent} --({weight})--> {node}\")\n",
        "        else:\n",
        "            print(node)\n",
        "\n",
        "        # Sort neighbors by weight before processing\n",
        "        neighbors = sorted(graph[node], key=lambda x: x[1])\n",
        "\n",
        "        for neighbor, w in neighbors:\n",
        "            if neighbor not in visited:\n",
        "                visited.add(neighbor)\n",
        "                queue.append((neighbor, node, w))\n",
        "\n",
        "bfs_with_min_edge_weight(graph, 'A')"
      ],
      "metadata": {
        "id": "i3h3tmriYfQs"
      },
      "execution_count": null,
      "outputs": []
    },
    {
      "cell_type": "markdown",
      "source": [
        "Prac 2 visiting in DFS"
      ],
      "metadata": {
        "id": "zN5ZYddqcFeE"
      }
    },
    {
      "cell_type": "code",
      "metadata": {
        "colab": {
          "base_uri": "https://localhost:8080/"
        },
        "id": "ca1fdd6a",
        "outputId": "dce53b86-1843-4802-aa6b-2aac48f780a1"
      },
      "source": [
        "graph = {\n",
        "    'R':['V','S'],\n",
        "    'S':['W'],\n",
        "    'W':['T','X'],\n",
        "    'T':['X','U'],\n",
        "    'X':['Y'],\n",
        "    'Y':['U'],\n",
        "    'V':[],\n",
        "    'U':[],\n",
        "\n",
        "}\n",
        "\n",
        "def dfs_using_stack(graph, start):\n",
        "    visited = set()\n",
        "    stack = [start]\n",
        "\n",
        "    while stack:\n",
        "        vertex = stack.pop()\n",
        "        if vertex not in visited:\n",
        "            print(vertex)\n",
        "            visited.add(vertex)\n",
        "            # Add neighbors to the stack in reverse order to visit in the same order as recursive DFS\n",
        "            for neighbor in reversed(graph.get(vertex, [])):\n",
        "                if neighbor not in visited:\n",
        "                    stack.append(neighbor)\n",
        "\n",
        "print(\"How the graph is visited in DFS:\")\n",
        "dfs_using_stack(graph, 'R')"
      ],
      "execution_count": null,
      "outputs": [
        {
          "output_type": "stream",
          "name": "stdout",
          "text": [
            "How the graph is visited in DFS:\n",
            "R\n",
            "V\n",
            "S\n",
            "W\n",
            "T\n",
            "X\n",
            "Y\n",
            "U\n"
          ]
        }
      ]
    },
    {
      "cell_type": "markdown",
      "source": [
        "BFS and DFS With Minimization of cost"
      ],
      "metadata": {
        "id": "tjy2aTOZY6sc"
      }
    },
    {
      "cell_type": "code",
      "metadata": {
        "colab": {
          "base_uri": "https://localhost:8080/"
        },
        "id": "117e2a7a",
        "outputId": "de60670e-6010-43e1-90a1-78283ff8acc5"
      },
      "source": [
        "graph = {\n",
        "    'Dadar':[('Parel',5),('Prabhadevi',10)],\n",
        "    'Parel':[('Curry Road',5),('Prabhadevi',8)],\n",
        "    'Prabhadevi':[('Lower Parel',5)],\n",
        "    'Lower Parel':[('Mahalaxmi',10)],\n",
        "    'Mahalaxmi':[('Mumbai Central',10)],\n",
        "    'Mumbai Central':[],\n",
        "    'Curry Road':[('Chinchpokli',10)],\n",
        "    'Chinchpokli':[],\n",
        "}\n",
        "\n",
        "def dfs_weighted(graph, start, visited=None, current_path_weight=0):\n",
        "    if visited is None:\n",
        "        visited = set()\n",
        "\n",
        "    if start not in visited:\n",
        "        print(f\"{start} (Path weight: {current_path_weight})\")\n",
        "        visited.add(start)\n",
        "        for neighbor, weight in graph.get(start, []):\n",
        "            if neighbor not in visited:\n",
        "                dfs_weighted(graph, neighbor, visited, current_path_weight + weight)\n",
        "\n",
        "from collections import deque\n",
        "\n",
        "def bfs_weighted(graph, start):\n",
        "    visited = set()\n",
        "    queue = deque([(start, 0)])\n",
        "\n",
        "    print(\"\\nBFS Traversal of the Mumbai Local Train:\")\n",
        "    while queue:\n",
        "        vertex, current_path_weight = queue.popleft()\n",
        "        if vertex not in visited:\n",
        "            print(f\"{vertex} (Path weight: {current_path_weight})\")\n",
        "            visited.add(vertex)\n",
        "            for neighbor, weight in graph.get(vertex, []):\n",
        "                if neighbor not in visited:\n",
        "                    queue.append((neighbor, current_path_weight + weight))\n",
        "\n",
        "\n",
        "print(\"DFS Traversal of the Mumbai Local Train:\")\n",
        "dfs_weighted(graph, 'Dadar')\n",
        "\n",
        "\n",
        "bfs_weighted(graph, 'Dadar')"
      ],
      "execution_count": null,
      "outputs": [
        {
          "output_type": "stream",
          "name": "stdout",
          "text": [
            "DFS Traversal of the Mumbai Local Train:\n",
            "Dadar (Path weight: 0)\n",
            "Parel (Path weight: 5)\n",
            "Curry Road (Path weight: 10)\n",
            "Chinchpokli (Path weight: 20)\n",
            "Prabhadevi (Path weight: 13)\n",
            "Lower Parel (Path weight: 18)\n",
            "Mahalaxmi (Path weight: 28)\n",
            "Mumbai Central (Path weight: 38)\n",
            "\n",
            "BFS Traversal of the Mumbai Local Train:\n",
            "Dadar (Path weight: 0)\n",
            "Parel (Path weight: 5)\n",
            "Prabhadevi (Path weight: 10)\n",
            "Curry Road (Path weight: 10)\n",
            "Lower Parel (Path weight: 15)\n",
            "Chinchpokli (Path weight: 20)\n",
            "Mahalaxmi (Path weight: 25)\n",
            "Mumbai Central (Path weight: 35)\n"
          ]
        }
      ]
    },
    {
      "cell_type": "markdown",
      "source": [
        "BFS and DFS in mumbai railway station"
      ],
      "metadata": {
        "id": "iwMwgRfbYtTM"
      }
    },
    {
      "cell_type": "code",
      "source": [
        "from collections import deque\n",
        "\n",
        "graph = {\n",
        "    'Dadar': [('Parel', 5), ('Prabhadevi', 10)],\n",
        "    'Parel': [('Curry Road', 5), ('Prabhadevi', 8)],\n",
        "    'Prabhadevi': [('Lower Parel', 5)],\n",
        "    'Lower Parel': [('Mahalaxmi', 10)],\n",
        "    'Mahalaxmi': [('Mumbai Central', 10)],\n",
        "    'Mumbai Central': [],\n",
        "    'Curry Road': [('Chinchpokli', 10)],\n",
        "    'Chinchpokli': [],\n",
        "}\n",
        "\n",
        "def bfs_with_cost(start):\n",
        "    visited = set()\n",
        "    queue = deque([(start, 0)])\n",
        "    bfs_order = []\n",
        "    total_cost = 0\n",
        "\n",
        "    while queue:\n",
        "        node, cost = queue.popleft()\n",
        "        if node not in visited:\n",
        "            visited.add(node)\n",
        "            bfs_order.append(node)\n",
        "            total_cost += cost\n",
        "            for neighbor, edge_cost in graph.get(node, []):\n",
        "                if neighbor not in visited:\n",
        "                    queue.append((neighbor, edge_cost))\n",
        "    return bfs_order, total_cost\n",
        "\n",
        "def dfs_with_cost(start):\n",
        "    visited = set()\n",
        "    dfs_order = []\n",
        "    total_cost = 0\n",
        "\n",
        "    def dfs_recursive(node, cost):\n",
        "        nonlocal total_cost\n",
        "        if node not in visited:\n",
        "            visited.add(node)\n",
        "            dfs_order.append(node)\n",
        "            total_cost += cost\n",
        "            for neighbor, edge_cost in graph.get(node, []):\n",
        "                dfs_recursive(neighbor, edge_cost)\n",
        "\n",
        "    dfs_recursive(start, 0)\n",
        "    return dfs_order, total_cost\n",
        "\n",
        "start_node = 'Dadar'\n",
        "bfs_path, bfs_cost = bfs_with_cost(start_node)\n",
        "dfs_path, dfs_cost = dfs_with_cost(start_node)\n",
        "\n",
        "print(\"BFS Traversal:\", bfs_path)\n",
        "print(\"Total BFS Cost:\", bfs_cost)\n",
        "print(\"DFS Traversal:\", dfs_path)\n",
        "print(\"Total DFS Cost:\", dfs_cost)\n"
      ],
      "metadata": {
        "colab": {
          "base_uri": "https://localhost:8080/"
        },
        "id": "r2iK416IqNDN",
        "outputId": "21fcff22-452a-461e-ec3f-9beab8c70126"
      },
      "execution_count": null,
      "outputs": [
        {
          "output_type": "stream",
          "name": "stdout",
          "text": [
            "BFS Traversal: ['Dadar', 'Parel', 'Prabhadevi', 'Curry Road', 'Lower Parel', 'Chinchpokli', 'Mahalaxmi', 'Mumbai Central']\n",
            "Total BFS Cost: 55\n",
            "DFS Traversal: ['Dadar', 'Parel', 'Curry Road', 'Chinchpokli', 'Prabhadevi', 'Lower Parel', 'Mahalaxmi', 'Mumbai Central']\n",
            "Total DFS Cost: 53\n"
          ]
        }
      ]
    }
  ]
}